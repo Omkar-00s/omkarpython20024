{
  "nbformat": 4,
  "nbformat_minor": 0,
  "metadata": {
    "colab": {
      "provenance": []
    },
    "kernelspec": {
      "name": "python3",
      "display_name": "Python 3"
    },
    "language_info": {
      "name": "python"
    }
  },
  "cells": [
    {
      "cell_type": "code",
      "source": [
        "num=int(input(\"enter a number\"))\n",
        "if (num%5==0) and (num%10==0):\n",
        "  print(\"divisible by 5and 10\")\n",
        "else:\n",
        "  print(\"not divisible by 5 and 10\")"
      ],
      "metadata": {
        "id": "DkCx-xUUSKh1"
      },
      "execution_count": null,
      "outputs": []
    }
  ]
}