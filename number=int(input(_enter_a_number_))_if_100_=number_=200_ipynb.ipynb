{
  "nbformat": 4,
  "nbformat_minor": 0,
  "metadata": {
    "colab": {
      "provenance": []
    },
    "kernelspec": {
      "name": "python3",
      "display_name": "Python 3"
    },
    "language_info": {
      "name": "python"
    }
  },
  "cells": [
    {
      "cell_type": "code",
      "source": [
        "s=input(\"enter a string\")\n",
        "result=\"\"\n",
        "for char in result:\n",
        "  if char in s:\n",
        "    result+=char\n",
        "    print(result)"
      ],
      "metadata": {
        "id": "pOoc37mDVwZw"
      },
      "execution_count": null,
      "outputs": []
    }
  ]
}