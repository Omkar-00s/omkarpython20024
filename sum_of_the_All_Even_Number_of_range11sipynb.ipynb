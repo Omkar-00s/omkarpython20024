{
  "nbformat": 4,
  "nbformat_minor": 0,
  "metadata": {
    "colab": {
      "provenance": []
    },
    "kernelspec": {
      "name": "python3",
      "display_name": "Python 3"
    },
    "language_info": {
      "name": "python"
    }
  },
  "cells": [
    {
      "cell_type": "markdown",
      "source": [
        "Sum of All Even Number of range"
      ],
      "metadata": {
        "id": "X8jYQ-SUl5x0"
      }
    },
    {
      "cell_type": "code",
      "source": [
        "start=int(input(\"enter the start of the range\"))\n",
        "end=int(input(\"enter the end of the range\"))\n",
        "even_sum=0\n",
        "for num in range(start,end+1):\n",
        "  if num%2==0:\n",
        "    even_sum+=num\n",
        "print(\"sum of even numbers:\",even_sum)\n"
      ],
      "metadata": {
        "colab": {
          "base_uri": "https://localhost:8080/"
        },
        "id": "I4-ao3ifmEh2",
        "outputId": "a9a0821c-c023-496a-91da-334d17c3c7f8"
      },
      "execution_count": null,
      "outputs": [
        {
          "output_type": "stream",
          "name": "stdout",
          "text": [
            "enter the start of the range0\n",
            "enter the end of the range10\n",
            "sum of even numbers: 30\n"
          ]
        }
      ]
    }
  ]
}