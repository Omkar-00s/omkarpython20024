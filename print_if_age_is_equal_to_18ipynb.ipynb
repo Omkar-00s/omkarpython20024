{
  "nbformat": 4,
  "nbformat_minor": 0,
  "metadata": {
    "colab": {
      "provenance": []
    },
    "kernelspec": {
      "name": "python3",
      "display_name": "Python 3"
    },
    "language_info": {
      "name": "python"
    }
  },
  "cells": [
    {
      "cell_type": "code",
      "execution_count": null,
      "metadata": {
        "id": "Vc0pdUFVLC8H"
      },
      "outputs": [],
      "source": []
    },
    {
      "cell_type": "code",
      "source": [
        "age=int(input(\"enter ypour age\"))\n",
        "if age==18:\n",
        "  print(\"Adult\")\n",
        "else:\n",
        "  print(\"minor\")"
      ],
      "metadata": {
        "colab": {
          "base_uri": "https://localhost:8080/"
        },
        "id": "GAhI0Ia0Jbx8",
        "outputId": "13516ffb-c654-4d1e-9804-d22da0a26349"
      },
      "execution_count": null,
      "outputs": [
        {
          "output_type": "stream",
          "name": "stdout",
          "text": [
            "enter ypour age19\n",
            "minor\n"
          ]
        }
      ]
    }
  ]
}