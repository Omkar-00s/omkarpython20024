{
  "nbformat": 4,
  "nbformat_minor": 0,
  "metadata": {
    "colab": {
      "provenance": []
    },
    "kernelspec": {
      "name": "python3",
      "display_name": "Python 3"
    },
    "language_info": {
      "name": "python"
    }
  },
  "cells": [
    {
      "cell_type": "code",
      "execution_count": null,
      "metadata": {
        "id": "Vc0pdUFVLC8H"
      },
      "outputs": [],
      "source": []
    },
    {
      "cell_type": "code",
      "source": [
        "dvd=int(input(\"enter a number\"))\n",
        "if dvd/3:\n",
        "  print(\"divisible by 3\")\n",
        "else:\n",
        "  print(\"dvd is not divisible by 3\")"
      ],
      "metadata": {
        "colab": {
          "base_uri": "https://localhost:8080/"
        },
        "id": "Ye0PMqqVKM2M",
        "outputId": "fe452520-a14a-44d9-d74a-0b14a0f17181"
      },
      "execution_count": null,
      "outputs": [
        {
          "output_type": "stream",
          "name": "stdout",
          "text": [
            "enter a number8\n",
            "divisible by 3\n"
          ]
        }
      ]
    }
  ]
}