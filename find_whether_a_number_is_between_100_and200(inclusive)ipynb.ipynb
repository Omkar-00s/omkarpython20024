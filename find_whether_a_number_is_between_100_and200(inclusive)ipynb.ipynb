{
  "nbformat": 4,
  "nbformat_minor": 0,
  "metadata": {
    "colab": {
      "provenance": []
    },
    "kernelspec": {
      "name": "python3",
      "display_name": "Python 3"
    },
    "language_info": {
      "name": "python"
    }
  },
  "cells": [
    {
      "cell_type": "code",
      "source": [
        "number=int(input(\"enter a number\"))\n",
        "if 100<=number<=200:\n",
        "  print(f\"{number} is between 100 and 200\")\n",
        "else:\n",
        "  print(f\"{number} is not between 100 and 200\")"
      ],
      "metadata": {
        "id": "USlt8pB-T6V2"
      },
      "execution_count": null,
      "outputs": []
    }
  ]
}