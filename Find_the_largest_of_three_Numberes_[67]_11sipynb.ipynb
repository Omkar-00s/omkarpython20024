{
  "nbformat": 4,
  "nbformat_minor": 0,
  "metadata": {
    "colab": {
      "provenance": []
    },
    "kernelspec": {
      "name": "python3",
      "display_name": "Python 3"
    },
    "language_info": {
      "name": "python"
    }
  },
  "cells": [
    {
      "cell_type": "code",
      "source": [
        "num1=float(input(\"enter the first numbers\"))\n",
        "num2=float(input(\"enter the second number\"))\n",
        "num3=float(input(\"enter thr thired number\"))\n",
        "if (num1>=num2) and (num1>=num3):\n",
        "  print(\"Largest number is:\",num1)\n",
        "elif num2>=num3:\n",
        "  print(\"Largest number is:\", num2)\n",
        "else:\n",
        "  print(\"Largest number is:\",num3)"
      ],
      "metadata": {
        "colab": {
          "base_uri": "https://localhost:8080/"
        },
        "id": "IgHMv3OqgqoE",
        "outputId": "b8cdf0db-082d-4ff4-f181-44a63998e339"
      },
      "execution_count": null,
      "outputs": [
        {
          "output_type": "stream",
          "name": "stdout",
          "text": [
            "enter the first numbers5\n",
            "enter the second number6\n",
            "enter thr thired number7\n",
            "Largest number is: 7.0\n"
          ]
        }
      ]
    }
  ]
}