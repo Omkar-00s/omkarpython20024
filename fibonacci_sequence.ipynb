{
  "nbformat": 4,
  "nbformat_minor": 0,
  "metadata": {
    "colab": {
      "provenance": []
    },
    "kernelspec": {
      "name": "python3",
      "display_name": "Python 3"
    },
    "language_info": {
      "name": "python"
    }
  },
  "cells": [
    {
      "cell_type": "markdown",
      "source": [
        "\n"
      ],
      "metadata": {
        "id": "DPds9Yc7TKk4"
      }
    },
    {
      "cell_type": "code",
      "source": [],
      "metadata": {
        "id": "uFdP-Ex6pYHS"
      },
      "execution_count": null,
      "outputs": []
    },
    {
      "cell_type": "code",
      "source": [
        "n=int(input(\"enter the number ofvterms:\"))\n",
        "a,b=0,1\n",
        "for i in range(n):\n",
        "   print(a,end=\"  \")\n",
        "   a,b=b,a+b"
      ],
      "metadata": {
        "colab": {
          "base_uri": "https://localhost:8080/"
        },
        "id": "aBPCvjtoTSRw",
        "outputId": "7857392f-7c19-45f9-ecb4-2f80f7f137eb"
      },
      "execution_count": null,
      "outputs": [
        {
          "output_type": "stream",
          "name": "stdout",
          "text": [
            "enter the number ofvterms:5\n",
            "0  1  1  2  3  "
          ]
        }
      ]
    }
  ]
}