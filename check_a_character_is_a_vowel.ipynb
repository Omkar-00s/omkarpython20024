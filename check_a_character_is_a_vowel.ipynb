{
  "nbformat": 4,
  "nbformat_minor": 0,
  "metadata": {
    "colab": {
      "provenance": []
    },
    "kernelspec": {
      "name": "python3",
      "display_name": "Python 3"
    },
    "language_info": {
      "name": "python"
    }
  },
  "cells": [
    {
      "cell_type": "code",
      "execution_count": null,
      "metadata": {
        "id": "Vc0pdUFVLC8H"
      },
      "outputs": [],
      "source": []
    },
    {
      "cell_type": "code",
      "source": [
        "char = input(\"Enter a character:\")\n",
        "if char in ['a', 'e','i','o','u']:\n",
        "    print(f\"(char) is a vowel.\")\n",
        "else:\n",
        "    print(f\"(char) is not a vowel.\")"
      ],
      "metadata": {
        "colab": {
          "base_uri": "https://localhost:8080/"
        },
        "id": "zoZVvCumHgHr",
        "outputId": "cfeb50bf-95b1-44eb-c50c-babde567f341"
      },
      "execution_count": null,
      "outputs": [
        {
          "output_type": "stream",
          "name": "stdout",
          "text": [
            "Enter a character:f\n",
            "(char) is not a vowel.\n"
          ]
        }
      ]
    }
  ]
}