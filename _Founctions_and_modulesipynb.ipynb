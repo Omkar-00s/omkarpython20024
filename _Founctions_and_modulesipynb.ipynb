{
  "nbformat": 4,
  "nbformat_minor": 0,
  "metadata": {
    "colab": {
      "provenance": []
    },
    "kernelspec": {
      "name": "python3",
      "display_name": "Python 3"
    },
    "language_info": {
      "name": "python"
    }
  },
  "cells": [
    {
      "cell_type": "code",
      "execution_count": null,
      "metadata": {
        "id": "J8ijlnzycKh0"
      },
      "outputs": [],
      "source": []
    },
    {
      "cell_type": "code",
      "source": [
        "#function syntax\n",
        "def greet(name):\n",
        "  print(\"Hello,\" +name+\"!\")\n",
        "\n",
        "greet(\"alice\")"
      ],
      "metadata": {
        "colab": {
          "base_uri": "https://localhost:8080/"
        },
        "id": "lZvG1bGHeh6c",
        "outputId": "6e8ede39-fddd-43f6-b679-11187e0ab67c"
      },
      "execution_count": null,
      "outputs": [
        {
          "output_type": "stream",
          "name": "stdout",
          "text": [
            "Hello,alice!\n"
          ]
        }
      ]
    }
  ]
}