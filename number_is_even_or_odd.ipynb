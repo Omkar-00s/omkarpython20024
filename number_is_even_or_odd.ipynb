{
  "nbformat": 4,
  "nbformat_minor": 0,
  "metadata": {
    "colab": {
      "provenance": []
    },
    "kernelspec": {
      "name": "python3",
      "display_name": "Python 3"
    },
    "language_info": {
      "name": "python"
    }
  },
  "cells": [
    {
      "cell_type": "code",
      "execution_count": null,
      "metadata": {
        "id": "MckitXAZR9V1"
      },
      "outputs": [],
      "source": [
        "number=int(input(\"enter a number\"))\n",
        "if number%2==0:\n",
        "  print(\"the number is even.\")\n",
        "else:\n",
        "   print(\"the number is odd.\")"
      ]
    }
  ]
}