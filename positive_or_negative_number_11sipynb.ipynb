{
  "nbformat": 4,
  "nbformat_minor": 0,
  "metadata": {
    "colab": {
      "provenance": []
    },
    "kernelspec": {
      "name": "python3",
      "display_name": "Python 3"
    },
    "language_info": {
      "name": "python"
    }
  },
  "cells": [
    {
      "cell_type": "code",
      "source": [
        "a=int(input(\"enter a number\"))\n",
        "if a>0:\n",
        "   print(\"positive number\")\n",
        "elif a<0:\n",
        "   print(\"negative number\")\n",
        "else:\n",
        "   print(\"zero\")\n",
        "\n"
      ],
      "metadata": {
        "colab": {
          "base_uri": "https://localhost:8080/"
        },
        "id": "cRyLEhzxjdKE",
        "outputId": "e2881f9f-e982-4ed7-cae0-3bbd24dce89e"
      },
      "execution_count": null,
      "outputs": [
        {
          "output_type": "stream",
          "name": "stdout",
          "text": [
            "enter a number7\n",
            "positive number\n"
          ]
        }
      ]
    }
  ]
}