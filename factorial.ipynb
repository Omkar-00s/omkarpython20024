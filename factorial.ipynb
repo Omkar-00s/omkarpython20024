{
  "nbformat": 4,
  "nbformat_minor": 0,
  "metadata": {
    "colab": {
      "provenance": []
    },
    "kernelspec": {
      "name": "python3",
      "display_name": "Python 3"
    },
    "language_info": {
      "name": "python"
    }
  },
  "cells": [
    {
      "cell_type": "code",
      "execution_count": null,
      "metadata": {
        "id": "tiASQASKSn8f"
      },
      "outputs": [],
      "source": []
    },
    {
      "cell_type": "code",
      "source": [
        "number=int(input(\"enter a number:\"))\n",
        "factorial=1\n",
        "for i in range(1,number+1):\n",
        "  factional*=i\n",
        "print(\"the factorial is:\",factorial)"
      ],
      "metadata": {
        "colab": {
          "base_uri": "https://localhost:8080/"
        },
        "id": "fnXXq5FCJRsV",
        "outputId": "fc698948-5977-4dc4-d6f0-069738fc0b24"
      },
      "execution_count": null,
      "outputs": [
        {
          "output_type": "stream",
          "name": "stdout",
          "text": [
            "enter a number:5\n",
            "the factorial is: 1\n"
          ]
        }
      ]
    }
  ]
}