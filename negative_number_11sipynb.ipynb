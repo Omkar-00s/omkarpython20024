{
  "nbformat": 4,
  "nbformat_minor": 0,
  "metadata": {
    "colab": {
      "provenance": []
    },
    "kernelspec": {
      "name": "python3",
      "display_name": "Python 3"
    },
    "language_info": {
      "name": "python"
    }
  },
  "cells": [
    {
      "cell_type": "code",
      "source": [
        "a=int(input(\"enter a number\"))\n",
        "if a>0:\n",
        "   print(\"positive number\")\n",
        "elif a<0:\n",
        "   print(\"negative number\")\n",
        "else:\n",
        "   print(\"zero\")"
      ],
      "metadata": {
        "colab": {
          "base_uri": "https://localhost:8080/"
        },
        "id": "fxGrxRrikpO7",
        "outputId": "9fc5dd28-275e-49ed-f212-1ebe9f2b93f3"
      },
      "execution_count": null,
      "outputs": [
        {
          "output_type": "stream",
          "name": "stdout",
          "text": [
            "enter a number-1\n",
            "negative number\n"
          ]
        }
      ]
    }
  ]
}